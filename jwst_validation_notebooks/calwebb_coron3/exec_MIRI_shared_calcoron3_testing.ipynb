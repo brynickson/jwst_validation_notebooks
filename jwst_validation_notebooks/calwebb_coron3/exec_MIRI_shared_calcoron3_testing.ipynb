{
 "cells": [
  {
   "cell_type": "markdown",
   "metadata": {},
   "source": [
    "<a id=\"title_ID\"></a>\n",
    "# JWST Pipeline Validation Testing Notebook: Calwebb_Coron3 for MIRI Coronagraphic Imaging\n",
    "\n",
    "<span style=\"color:red\"> **Instruments Affected**</span>: MIRI, NIRCam\n",
    "\n",
    "Tested on MIRI Simulated data\n",
    "\n",
    "### Table of Contents\n",
    "<div style=\"text-align: left\"> \n",
    "\n",
    "<br>  [Introduction](#intro_ID) <br> [Imports](#imports_ID) <br> [Download Input Data](#download_dataz) <br> [Run JWST Pipeline](#pipeline_ID) <br> [Input Data Description](#indata) <br> [Examine Output Data](#examine_outdata) <br> [Testing Needed in the Near Future ](#future_testing)  <br> [About This Notebook](#about_ID) <br>\n",
    "\n",
    "\n",
    "</div>"
   ]
  },
  {
   "cell_type": "markdown",
   "metadata": {},
   "source": [
    "<a id=\"intro_ID\"></a>\n",
    "# Introduction\n",
    "\n",
    "This notebook is used to test the following steps in the CALCORON3 pipeline for MIRI for pipeline version == '0.17.0':\n",
    "- stack_refs \n",
    "- align_refs\n",
    "- klip\n",
    "\n",
    "Note: outlier_detection step has been changed and moved in build 0.17.1, so this step has not been tested. resample step has also not yet been tested.\n",
    "\n",
    "The simulated psfs were generated using panCake and then the data was edited by me to make it more accurate and enable it to be fed through the JWST CALCORON3 pipeline.\n",
    "- Simulated Data was generated for MIRI 1065C 4QPM.\n",
    "- One target PSF with 9 reference PSFs from 9-point small grid dither.\n",
    "- Target contains 2 fake companion psfs.\n",
    "\n",
    "I use a different PSFMASK reference file from the one on CRDS, as the current ones in CRDS need to be updated.\n",
    "\n",
    "These steps are set up with an example simulated MIRI dataset.\n",
    "\n",
    "The pipeline documentation can be found here: https://jwst-pipeline.readthedocs.io/en/latest/\n",
    "\n",
    "Documentation for calcoron3 can be found here: https://jwst-pipeline.readthedocs.io/en/latest/jwst/pipeline/calwebb_coron3.html#calwebb-coron3\n",
    "\n",
    "The pipeline code is available on GitHub: https://github.com/spacetelescope/jwst\n",
    "\n",
    "### Defining Terms\n",
    "\n",
    "    JWST: James Webb Space Telescope\n",
    "    MIRI: Mid-Infrared Instrument\n",
    "    4QPM: 4 Quadrant Phase Mask\n",
    "    panCake: and in-house tool at STScI used to simulate coronagraphic PSFs.\n",
    "\n"
   ]
  },
  {
   "cell_type": "markdown",
   "metadata": {},
   "source": [
    "<a id=\"imports_ID\"></a>\n",
    "## Imports\n",
    "\n",
    "* jwst for checking the version being tested\n",
    "* Coron3Pipeline is the pipeline being tested\n",
    "* matplotlib.pyplot.plt to generate plot\n",
    "* numpy for array calculations and manipulation\n",
    "* download_file allow downloading and accessing files\n",
    "* ipywidgets and (from IPython.display import display,clear_output) to display images to click through "
   ]
  },
  {
   "cell_type": "code",
   "execution_count": 1,
   "metadata": {
    "ExecuteTime": {
     "end_time": "2020-09-08T17:28:12.408482Z",
     "start_time": "2020-09-08T17:28:12.394611Z"
    },
    "execution": {
     "iopub.execute_input": "2020-12-09T22:01:22.881562Z",
     "iopub.status.busy": "2020-12-09T22:01:22.880812Z",
     "iopub.status.idle": "2020-12-09T22:01:25.720847Z",
     "shell.execute_reply": "2020-12-09T22:01:25.720035Z"
    }
   },
   "outputs": [
    {
     "name": "stderr",
     "output_type": "stream",
     "text": [
      "2020-12-09 17:01:24,666 - stpipe - INFO - Generating new fontManager, this may take some time...\n"
     ]
    }
   ],
   "source": [
    "import jwst\n",
    "from jwst.pipeline import Coron3Pipeline\n",
    "from astropy.io import fits\n",
    "from ci_watson.artifactory_helpers import get_bigdata\n",
    "import matplotlib.pyplot as plt\n",
    "%matplotlib inline\n",
    "from astropy.utils.data import download_file\n",
    "\n",
    "# To prevent automatic figure display when execution of the cell ends\n",
    "%config InlineBackend.close_figures=False \n",
    "\n",
    "import numpy as np\n",
    "import ipywidgets as widgets\n",
    "from IPython.display import display,clear_output\n",
    "import os"
   ]
  },
  {
   "cell_type": "code",
   "execution_count": 2,
   "metadata": {
    "ExecuteTime": {
     "end_time": "2020-09-08T17:28:13.123744Z",
     "start_time": "2020-09-08T17:28:13.119915Z"
    },
    "execution": {
     "iopub.execute_input": "2020-12-09T22:01:25.728705Z",
     "iopub.status.busy": "2020-12-09T22:01:25.728017Z",
     "iopub.status.idle": "2020-12-09T22:01:25.731255Z",
     "shell.execute_reply": "2020-12-09T22:01:25.731806Z"
    }
   },
   "outputs": [
    {
     "data": {
      "text/plain": [
       "'0.17.1'"
      ]
     },
     "execution_count": 1,
     "metadata": {},
     "output_type": "execute_result"
    }
   ],
   "source": [
    "jwst.__version__\n",
    "# should out '0.17.0'"
   ]
  },
  {
   "cell_type": "markdown",
   "metadata": {},
   "source": [
    "<a id=\"download_dataz\"></a>\n",
    "## Download Input Data"
   ]
  },
  {
   "cell_type": "markdown",
   "metadata": {},
   "source": [
    "Here we download the data which is hosted publicly on Box"
   ]
  },
  {
   "cell_type": "code",
   "execution_count": 3,
   "metadata": {
    "execution": {
     "iopub.execute_input": "2020-12-09T22:01:25.740491Z",
     "iopub.status.busy": "2020-12-09T22:01:25.735979Z",
     "iopub.status.idle": "2020-12-09T22:01:25.834276Z",
     "shell.execute_reply": "2020-12-09T22:01:25.833757Z"
    }
   },
   "outputs": [],
   "source": [
    "# new PSFMASK file\n",
    "\n",
    "psf_mask_dir = get_bigdata('jwst_validation_notebooks',\n",
    "                     'validation_data',\n",
    "                     'calwebb_coron3',\n",
    "                     'coron3_miri_test', \n",
    "                     'jwst_miri_psfmask_0001_new.fits')\n"
   ]
  },
  {
   "cell_type": "code",
   "execution_count": 4,
   "metadata": {
    "execution": {
     "iopub.execute_input": "2020-12-09T22:01:25.840095Z",
     "iopub.status.busy": "2020-12-09T22:01:25.839455Z",
     "iopub.status.idle": "2020-12-09T22:01:25.940767Z",
     "shell.execute_reply": "2020-12-09T22:01:25.940216Z"
    }
   },
   "outputs": [],
   "source": [
    "# download target psf file\n",
    "\n",
    "target_psf_fn = get_bigdata('jwst_validation_notebooks',\n",
    "                     'validation_data',\n",
    "                     'calwebb_coron3',\n",
    "                     'coron3_miri_test', \n",
    "                     'new_targ.fits')\n"
   ]
  },
  {
   "cell_type": "code",
   "execution_count": 5,
   "metadata": {
    "execution": {
     "iopub.execute_input": "2020-12-09T22:01:25.949106Z",
     "iopub.status.busy": "2020-12-09T22:01:25.948436Z",
     "iopub.status.idle": "2020-12-09T22:01:26.998723Z",
     "shell.execute_reply": "2020-12-09T22:01:26.998081Z"
    }
   },
   "outputs": [],
   "source": [
    "# download reference psf files\n",
    "    \n",
    "new_ref_0 = get_bigdata('jwst_validation_notebooks',\n",
    "                     'validation_data',\n",
    "                     'calwebb_coron3',\n",
    "                     'coron3_miri_test', \n",
    "                     'new_ref_0.fits')\n",
    "\n",
    "new_ref_1 = get_bigdata('jwst_validation_notebooks',\n",
    "                     'validation_data',\n",
    "                     'calwebb_coron3',\n",
    "                     'coron3_miri_test', \n",
    "                     'new_ref_1.fits')\n",
    "\n",
    "new_ref_2 = get_bigdata('jwst_validation_notebooks',\n",
    "                     'validation_data',\n",
    "                     'calwebb_coron3',\n",
    "                     'coron3_miri_test', \n",
    "                     'new_ref_2.fits')\n",
    "\n",
    "new_ref_3 = get_bigdata('jwst_validation_notebooks',\n",
    "                     'validation_data',\n",
    "                     'calwebb_coron3',\n",
    "                     'coron3_miri_test', \n",
    "                     'new_ref_3.fits')\n",
    "\n",
    "new_ref_4 = get_bigdata('jwst_validation_notebooks',\n",
    "                     'validation_data',\n",
    "                     'calwebb_coron3',\n",
    "                     'coron3_miri_test', \n",
    "                     'new_ref_4.fits')\n",
    "\n",
    "new_ref_5 = get_bigdata('jwst_validation_notebooks',\n",
    "                     'validation_data',\n",
    "                     'calwebb_coron3',\n",
    "                     'coron3_miri_test', \n",
    "                     'new_ref_5.fits')\n",
    "\n",
    "new_ref_6 = get_bigdata('jwst_validation_notebooks',\n",
    "                     'validation_data',\n",
    "                     'calwebb_coron3',\n",
    "                     'coron3_miri_test', \n",
    "                     'new_ref_6.fits')\n",
    "\n",
    "new_ref_7 = get_bigdata('jwst_validation_notebooks',\n",
    "                     'validation_data',\n",
    "                     'calwebb_coron3',\n",
    "                     'coron3_miri_test', \n",
    "                     'new_ref_7.fits')\n",
    "             \n",
    "new_ref_8 = get_bigdata('jwst_validation_notebooks',\n",
    "                     'validation_data',\n",
    "                     'calwebb_coron3',\n",
    "                     'coron3_miri_test', \n",
    "                     'new_ref_8.fits')"
   ]
  },
  {
   "cell_type": "markdown",
   "metadata": {},
   "source": [
    "<a id=\"pipeline_ID\"></a>\n",
    "## Run JWST Pipeline"
   ]
  },
  {
   "cell_type": "code",
   "execution_count": 6,
   "metadata": {
    "ExecuteTime": {
     "end_time": "2020-09-08T17:28:04.191621Z",
     "start_time": "2020-09-08T17:28:04.160783Z"
    },
    "execution": {
     "iopub.execute_input": "2020-12-09T22:01:27.007849Z",
     "iopub.status.busy": "2020-12-09T22:01:27.007179Z",
     "iopub.status.idle": "2020-12-09T22:01:38.710217Z",
     "shell.execute_reply": "2020-12-09T22:01:38.709649Z"
    }
   },
   "outputs": [
    {
     "name": "stderr",
     "output_type": "stream",
     "text": [
      "2020-12-09 17:01:27,011 - stpipe.Coron3Pipeline - INFO - Coron3Pipeline instance created.\n"
     ]
    },
    {
     "name": "stderr",
     "output_type": "stream",
     "text": [
      "2020-12-09 17:01:27,012 - stpipe.Coron3Pipeline.stack_refs - INFO - StackRefsStep instance created.\n"
     ]
    },
    {
     "name": "stderr",
     "output_type": "stream",
     "text": [
      "2020-12-09 17:01:27,014 - stpipe.Coron3Pipeline.align_refs - INFO - AlignRefsStep instance created.\n"
     ]
    },
    {
     "name": "stderr",
     "output_type": "stream",
     "text": [
      "2020-12-09 17:01:27,016 - stpipe.Coron3Pipeline.klip - INFO - KlipStep instance created.\n"
     ]
    },
    {
     "name": "stderr",
     "output_type": "stream",
     "text": [
      "2020-12-09 17:01:27,018 - stpipe.Coron3Pipeline.outlier_detection - INFO - OutlierDetectionStep instance created.\n"
     ]
    },
    {
     "name": "stderr",
     "output_type": "stream",
     "text": [
      "2020-12-09 17:01:27,021 - stpipe.Coron3Pipeline.resample - INFO - ResampleStep instance created.\n"
     ]
    },
    {
     "name": "stderr",
     "output_type": "stream",
     "text": [
      "2020-12-09 17:01:27,156 - stpipe.Coron3Pipeline - INFO - Step Coron3Pipeline running with args ('test.yml',).\n"
     ]
    },
    {
     "name": "stderr",
     "output_type": "stream",
     "text": [
      "2020-12-09 17:01:27,163 - stpipe.Coron3Pipeline - INFO - Step Coron3Pipeline parameters are: {'pre_hooks': [], 'post_hooks': [], 'output_file': None, 'output_dir': '/data1/jenkins/workspace/Notebooks/jwst_validation_notebooks_spacetelescope/jwst_validation_notebooks/calwebb_coron3', 'output_ext': '.fits', 'output_use_model': False, 'output_use_index': True, 'save_results': True, 'skip': False, 'suffix': 'i2d', 'search_output_file': True, 'input_dir': '', 'steps': {'stack_refs': {'pre_hooks': [], 'post_hooks': [], 'output_file': None, 'output_dir': None, 'output_ext': '.fits', 'output_use_model': False, 'output_use_index': True, 'save_results': False, 'skip': False, 'suffix': None, 'search_output_file': True, 'input_dir': ''}, 'align_refs': {'pre_hooks': [], 'post_hooks': [], 'output_file': None, 'output_dir': None, 'output_ext': '.fits', 'output_use_model': False, 'output_use_index': True, 'save_results': False, 'skip': False, 'suffix': None, 'search_output_file': True, 'input_dir': '', 'median_box_length': 4}, 'klip': {'pre_hooks': [], 'post_hooks': [], 'output_file': None, 'output_dir': None, 'output_ext': '.fits', 'output_use_model': False, 'output_use_index': True, 'save_results': False, 'skip': False, 'suffix': None, 'search_output_file': True, 'input_dir': '', 'truncate': 50}, 'outlier_detection': {'pre_hooks': [], 'post_hooks': [], 'output_file': None, 'output_dir': None, 'output_ext': '.fits', 'output_use_model': False, 'output_use_index': True, 'save_results': False, 'skip': False, 'suffix': None, 'search_output_file': False, 'input_dir': '', 'weight_type': 'exptime', 'pixfrac': 1.0, 'kernel': 'square', 'fillval': 'INDEF', 'nlow': 0, 'nhigh': 0, 'maskpt': 0.7, 'grow': 1, 'snr': '4.0 3.0', 'scale': '0.5 0.4', 'backg': 0.0, 'save_intermediate_results': False, 'resample_data': True, 'good_bits': '~DO_NOT_USE', 'scale_detection': False}, 'resample': {'pre_hooks': [], 'post_hooks': [], 'output_file': None, 'output_dir': None, 'output_ext': '.fits', 'output_use_model': False, 'output_use_index': True, 'save_results': False, 'skip': True, 'suffix': None, 'search_output_file': True, 'input_dir': '', 'pixfrac': 1.0, 'kernel': 'square', 'fillval': 'INDEF', 'weight_type': 'exptime', 'single': False, 'blendheaders': True}}}\n"
     ]
    },
    {
     "name": "stderr",
     "output_type": "stream",
     "text": [
      "2020-12-09 17:01:27,165 - stpipe.Coron3Pipeline - INFO - Starting calwebb_coron3 ...\n"
     ]
    },
    {
     "name": "stderr",
     "output_type": "stream",
     "text": [
      "202012091701:DEBUG:jwst.associations.association_io.load:Error unserializing: \"Expecting property name enclosed in double quotes: line 12 column 11 (char 316)\"\n"
     ]
    },
    {
     "name": "stderr",
     "output_type": "stream",
     "text": [
      "2020-12-09 17:01:28,393 - stpipe.Coron3Pipeline - INFO - Prefetching reference files for dataset: 'new_ref_8.fits' reftypes = []\n"
     ]
    },
    {
     "name": "stderr",
     "output_type": "stream",
     "text": [
      "2020-12-09 17:01:28,396 - stpipe.Coron3Pipeline - INFO - Override for PSFMASK reference file is '/data1/jenkins/workspace/Notebooks/jwst_validation_notebooks_spacetelescope/jwst_validation_notebooks/calwebb_coron3/jwst_miri_psfmask_0001_new.fits'.\n"
     ]
    },
    {
     "name": "stderr",
     "output_type": "stream",
     "text": [
      "2020-12-09 17:01:28,816 - stpipe.Coron3Pipeline - INFO - Prefetching reference files for dataset: 'new_ref_7.fits' reftypes = []\n"
     ]
    },
    {
     "name": "stderr",
     "output_type": "stream",
     "text": [
      "2020-12-09 17:01:28,819 - stpipe.Coron3Pipeline - INFO - Override for PSFMASK reference file is '/data1/jenkins/workspace/Notebooks/jwst_validation_notebooks_spacetelescope/jwst_validation_notebooks/calwebb_coron3/jwst_miri_psfmask_0001_new.fits'.\n"
     ]
    },
    {
     "name": "stderr",
     "output_type": "stream",
     "text": [
      "2020-12-09 17:01:29,108 - stpipe.Coron3Pipeline - INFO - Prefetching reference files for dataset: 'new_ref_6.fits' reftypes = []\n"
     ]
    },
    {
     "name": "stderr",
     "output_type": "stream",
     "text": [
      "2020-12-09 17:01:29,110 - stpipe.Coron3Pipeline - INFO - Override for PSFMASK reference file is '/data1/jenkins/workspace/Notebooks/jwst_validation_notebooks_spacetelescope/jwst_validation_notebooks/calwebb_coron3/jwst_miri_psfmask_0001_new.fits'.\n"
     ]
    },
    {
     "name": "stderr",
     "output_type": "stream",
     "text": [
      "2020-12-09 17:01:29,401 - stpipe.Coron3Pipeline - INFO - Prefetching reference files for dataset: 'new_ref_5.fits' reftypes = []\n"
     ]
    },
    {
     "name": "stderr",
     "output_type": "stream",
     "text": [
      "2020-12-09 17:01:29,403 - stpipe.Coron3Pipeline - INFO - Override for PSFMASK reference file is '/data1/jenkins/workspace/Notebooks/jwst_validation_notebooks_spacetelescope/jwst_validation_notebooks/calwebb_coron3/jwst_miri_psfmask_0001_new.fits'.\n"
     ]
    },
    {
     "name": "stderr",
     "output_type": "stream",
     "text": [
      "2020-12-09 17:01:29,698 - stpipe.Coron3Pipeline - INFO - Prefetching reference files for dataset: 'new_ref_4.fits' reftypes = []\n"
     ]
    },
    {
     "name": "stderr",
     "output_type": "stream",
     "text": [
      "2020-12-09 17:01:29,700 - stpipe.Coron3Pipeline - INFO - Override for PSFMASK reference file is '/data1/jenkins/workspace/Notebooks/jwst_validation_notebooks_spacetelescope/jwst_validation_notebooks/calwebb_coron3/jwst_miri_psfmask_0001_new.fits'.\n"
     ]
    },
    {
     "name": "stderr",
     "output_type": "stream",
     "text": [
      "2020-12-09 17:01:29,993 - stpipe.Coron3Pipeline - INFO - Prefetching reference files for dataset: 'new_ref_3.fits' reftypes = []\n"
     ]
    },
    {
     "name": "stderr",
     "output_type": "stream",
     "text": [
      "2020-12-09 17:01:29,995 - stpipe.Coron3Pipeline - INFO - Override for PSFMASK reference file is '/data1/jenkins/workspace/Notebooks/jwst_validation_notebooks_spacetelescope/jwst_validation_notebooks/calwebb_coron3/jwst_miri_psfmask_0001_new.fits'.\n"
     ]
    },
    {
     "name": "stderr",
     "output_type": "stream",
     "text": [
      "2020-12-09 17:01:30,389 - stpipe.Coron3Pipeline - INFO - Prefetching reference files for dataset: 'new_ref_2.fits' reftypes = []\n"
     ]
    },
    {
     "name": "stderr",
     "output_type": "stream",
     "text": [
      "2020-12-09 17:01:30,391 - stpipe.Coron3Pipeline - INFO - Override for PSFMASK reference file is '/data1/jenkins/workspace/Notebooks/jwst_validation_notebooks_spacetelescope/jwst_validation_notebooks/calwebb_coron3/jwst_miri_psfmask_0001_new.fits'.\n"
     ]
    },
    {
     "name": "stderr",
     "output_type": "stream",
     "text": [
      "2020-12-09 17:01:30,686 - stpipe.Coron3Pipeline - INFO - Prefetching reference files for dataset: 'new_ref_1.fits' reftypes = []\n"
     ]
    },
    {
     "name": "stderr",
     "output_type": "stream",
     "text": [
      "2020-12-09 17:01:30,688 - stpipe.Coron3Pipeline - INFO - Override for PSFMASK reference file is '/data1/jenkins/workspace/Notebooks/jwst_validation_notebooks_spacetelescope/jwst_validation_notebooks/calwebb_coron3/jwst_miri_psfmask_0001_new.fits'.\n"
     ]
    },
    {
     "name": "stderr",
     "output_type": "stream",
     "text": [
      "2020-12-09 17:01:30,979 - stpipe.Coron3Pipeline - INFO - Prefetching reference files for dataset: 'new_ref_0.fits' reftypes = []\n"
     ]
    },
    {
     "name": "stderr",
     "output_type": "stream",
     "text": [
      "2020-12-09 17:01:30,981 - stpipe.Coron3Pipeline - INFO - Override for PSFMASK reference file is '/data1/jenkins/workspace/Notebooks/jwst_validation_notebooks_spacetelescope/jwst_validation_notebooks/calwebb_coron3/jwst_miri_psfmask_0001_new.fits'.\n"
     ]
    },
    {
     "name": "stderr",
     "output_type": "stream",
     "text": [
      "2020-12-09 17:01:31,273 - stpipe.Coron3Pipeline - INFO - Prefetching reference files for dataset: 'new_targ.fits' reftypes = []\n"
     ]
    },
    {
     "name": "stderr",
     "output_type": "stream",
     "text": [
      "2020-12-09 17:01:31,276 - stpipe.Coron3Pipeline - INFO - Override for PSFMASK reference file is '/data1/jenkins/workspace/Notebooks/jwst_validation_notebooks_spacetelescope/jwst_validation_notebooks/calwebb_coron3/jwst_miri_psfmask_0001_new.fits'.\n"
     ]
    },
    {
     "name": "stderr",
     "output_type": "stream",
     "text": [
      "2020-12-09 17:01:34,087 - stpipe.Coron3Pipeline.outlier_detection - INFO - Step outlier_detection running with args (<CubeModel(1, 224, 288) from new_ref_8.fits>,).\n"
     ]
    },
    {
     "name": "stderr",
     "output_type": "stream",
     "text": [
      "2020-12-09 17:01:34,090 - stpipe.Coron3Pipeline.outlier_detection - INFO - Step outlier_detection parameters are: {'pre_hooks': [], 'post_hooks': [], 'output_file': None, 'output_dir': None, 'output_ext': '.fits', 'output_use_model': False, 'output_use_index': True, 'save_results': True, 'skip': False, 'suffix': 'c1001_crfints', 'search_output_file': False, 'input_dir': '', 'weight_type': 'exptime', 'pixfrac': 1.0, 'kernel': 'square', 'fillval': 'INDEF', 'nlow': 0, 'nhigh': 0, 'maskpt': 0.7, 'grow': 1, 'snr': '4.0 3.0', 'scale': '0.5 0.4', 'backg': 0.0, 'save_intermediate_results': False, 'resample_data': True, 'good_bits': '~DO_NOT_USE', 'scale_detection': False}\n"
     ]
    },
    {
     "name": "stderr",
     "output_type": "stream",
     "text": [
      "2020-12-09 17:01:34,102 - stpipe.Coron3Pipeline.outlier_detection - WARNING - Input only contains 1 integration\n"
     ]
    },
    {
     "name": "stderr",
     "output_type": "stream",
     "text": [
      "2020-12-09 17:01:34,103 - stpipe.Coron3Pipeline.outlier_detection - WARNING - Outlier detection step will be skipped\n"
     ]
    },
    {
     "name": "stderr",
     "output_type": "stream",
     "text": [
      "2020-12-09 17:01:34,104 - stpipe.Coron3Pipeline.outlier_detection - INFO - Step outlier_detection done\n"
     ]
    },
    {
     "name": "stderr",
     "output_type": "stream",
     "text": [
      "2020-12-09 17:01:34,186 - stpipe.Coron3Pipeline.outlier_detection - INFO - Step outlier_detection running with args (<CubeModel(1, 224, 288) from new_ref_7.fits>,).\n"
     ]
    },
    {
     "name": "stderr",
     "output_type": "stream",
     "text": [
      "2020-12-09 17:01:34,188 - stpipe.Coron3Pipeline.outlier_detection - INFO - Step outlier_detection parameters are: {'pre_hooks': [], 'post_hooks': [], 'output_file': None, 'output_dir': None, 'output_ext': '.fits', 'output_use_model': False, 'output_use_index': True, 'save_results': True, 'skip': False, 'suffix': 'c1001_crfints', 'search_output_file': False, 'input_dir': '', 'weight_type': 'exptime', 'pixfrac': 1.0, 'kernel': 'square', 'fillval': 'INDEF', 'nlow': 0, 'nhigh': 0, 'maskpt': 0.7, 'grow': 1, 'snr': '4.0 3.0', 'scale': '0.5 0.4', 'backg': 0.0, 'save_intermediate_results': False, 'resample_data': True, 'good_bits': '~DO_NOT_USE', 'scale_detection': False}\n"
     ]
    },
    {
     "name": "stderr",
     "output_type": "stream",
     "text": [
      "2020-12-09 17:01:34,200 - stpipe.Coron3Pipeline.outlier_detection - WARNING - Input only contains 1 integration\n"
     ]
    },
    {
     "name": "stderr",
     "output_type": "stream",
     "text": [
      "2020-12-09 17:01:34,200 - stpipe.Coron3Pipeline.outlier_detection - WARNING - Outlier detection step will be skipped\n"
     ]
    },
    {
     "name": "stderr",
     "output_type": "stream",
     "text": [
      "2020-12-09 17:01:34,202 - stpipe.Coron3Pipeline.outlier_detection - INFO - Step outlier_detection done\n"
     ]
    },
    {
     "name": "stderr",
     "output_type": "stream",
     "text": [
      "2020-12-09 17:01:34,281 - stpipe.Coron3Pipeline.outlier_detection - INFO - Step outlier_detection running with args (<CubeModel(1, 224, 288) from new_ref_6.fits>,).\n"
     ]
    },
    {
     "name": "stderr",
     "output_type": "stream",
     "text": [
      "2020-12-09 17:01:34,284 - stpipe.Coron3Pipeline.outlier_detection - INFO - Step outlier_detection parameters are: {'pre_hooks': [], 'post_hooks': [], 'output_file': None, 'output_dir': None, 'output_ext': '.fits', 'output_use_model': False, 'output_use_index': True, 'save_results': True, 'skip': False, 'suffix': 'c1001_crfints', 'search_output_file': False, 'input_dir': '', 'weight_type': 'exptime', 'pixfrac': 1.0, 'kernel': 'square', 'fillval': 'INDEF', 'nlow': 0, 'nhigh': 0, 'maskpt': 0.7, 'grow': 1, 'snr': '4.0 3.0', 'scale': '0.5 0.4', 'backg': 0.0, 'save_intermediate_results': False, 'resample_data': True, 'good_bits': '~DO_NOT_USE', 'scale_detection': False}\n"
     ]
    },
    {
     "name": "stderr",
     "output_type": "stream",
     "text": [
      "2020-12-09 17:01:34,295 - stpipe.Coron3Pipeline.outlier_detection - WARNING - Input only contains 1 integration\n"
     ]
    },
    {
     "name": "stderr",
     "output_type": "stream",
     "text": [
      "2020-12-09 17:01:34,296 - stpipe.Coron3Pipeline.outlier_detection - WARNING - Outlier detection step will be skipped\n"
     ]
    },
    {
     "name": "stderr",
     "output_type": "stream",
     "text": [
      "2020-12-09 17:01:34,298 - stpipe.Coron3Pipeline.outlier_detection - INFO - Step outlier_detection done\n"
     ]
    },
    {
     "name": "stderr",
     "output_type": "stream",
     "text": [
      "2020-12-09 17:01:34,389 - stpipe.Coron3Pipeline.outlier_detection - INFO - Step outlier_detection running with args (<CubeModel(1, 224, 288) from new_ref_5.fits>,).\n"
     ]
    },
    {
     "name": "stderr",
     "output_type": "stream",
     "text": [
      "2020-12-09 17:01:34,392 - stpipe.Coron3Pipeline.outlier_detection - INFO - Step outlier_detection parameters are: {'pre_hooks': [], 'post_hooks': [], 'output_file': None, 'output_dir': None, 'output_ext': '.fits', 'output_use_model': False, 'output_use_index': True, 'save_results': True, 'skip': False, 'suffix': 'c1001_crfints', 'search_output_file': False, 'input_dir': '', 'weight_type': 'exptime', 'pixfrac': 1.0, 'kernel': 'square', 'fillval': 'INDEF', 'nlow': 0, 'nhigh': 0, 'maskpt': 0.7, 'grow': 1, 'snr': '4.0 3.0', 'scale': '0.5 0.4', 'backg': 0.0, 'save_intermediate_results': False, 'resample_data': True, 'good_bits': '~DO_NOT_USE', 'scale_detection': False}\n"
     ]
    },
    {
     "name": "stderr",
     "output_type": "stream",
     "text": [
      "2020-12-09 17:01:34,403 - stpipe.Coron3Pipeline.outlier_detection - WARNING - Input only contains 1 integration\n"
     ]
    },
    {
     "name": "stderr",
     "output_type": "stream",
     "text": [
      "2020-12-09 17:01:34,404 - stpipe.Coron3Pipeline.outlier_detection - WARNING - Outlier detection step will be skipped\n"
     ]
    },
    {
     "name": "stderr",
     "output_type": "stream",
     "text": [
      "2020-12-09 17:01:34,405 - stpipe.Coron3Pipeline.outlier_detection - INFO - Step outlier_detection done\n"
     ]
    },
    {
     "name": "stderr",
     "output_type": "stream",
     "text": [
      "2020-12-09 17:01:34,490 - stpipe.Coron3Pipeline.outlier_detection - INFO - Step outlier_detection running with args (<CubeModel(1, 224, 288) from new_ref_4.fits>,).\n"
     ]
    },
    {
     "name": "stderr",
     "output_type": "stream",
     "text": [
      "2020-12-09 17:01:34,492 - stpipe.Coron3Pipeline.outlier_detection - INFO - Step outlier_detection parameters are: {'pre_hooks': [], 'post_hooks': [], 'output_file': None, 'output_dir': None, 'output_ext': '.fits', 'output_use_model': False, 'output_use_index': True, 'save_results': True, 'skip': False, 'suffix': 'c1001_crfints', 'search_output_file': False, 'input_dir': '', 'weight_type': 'exptime', 'pixfrac': 1.0, 'kernel': 'square', 'fillval': 'INDEF', 'nlow': 0, 'nhigh': 0, 'maskpt': 0.7, 'grow': 1, 'snr': '4.0 3.0', 'scale': '0.5 0.4', 'backg': 0.0, 'save_intermediate_results': False, 'resample_data': True, 'good_bits': '~DO_NOT_USE', 'scale_detection': False}\n"
     ]
    },
    {
     "name": "stderr",
     "output_type": "stream",
     "text": [
      "2020-12-09 17:01:34,503 - stpipe.Coron3Pipeline.outlier_detection - WARNING - Input only contains 1 integration\n"
     ]
    },
    {
     "name": "stderr",
     "output_type": "stream",
     "text": [
      "2020-12-09 17:01:34,504 - stpipe.Coron3Pipeline.outlier_detection - WARNING - Outlier detection step will be skipped\n"
     ]
    },
    {
     "name": "stderr",
     "output_type": "stream",
     "text": [
      "2020-12-09 17:01:34,505 - stpipe.Coron3Pipeline.outlier_detection - INFO - Step outlier_detection done\n"
     ]
    },
    {
     "name": "stderr",
     "output_type": "stream",
     "text": [
      "2020-12-09 17:01:34,593 - stpipe.Coron3Pipeline.outlier_detection - INFO - Step outlier_detection running with args (<CubeModel(1, 224, 288) from new_ref_3.fits>,).\n"
     ]
    },
    {
     "name": "stderr",
     "output_type": "stream",
     "text": [
      "2020-12-09 17:01:34,595 - stpipe.Coron3Pipeline.outlier_detection - INFO - Step outlier_detection parameters are: {'pre_hooks': [], 'post_hooks': [], 'output_file': None, 'output_dir': None, 'output_ext': '.fits', 'output_use_model': False, 'output_use_index': True, 'save_results': True, 'skip': False, 'suffix': 'c1001_crfints', 'search_output_file': False, 'input_dir': '', 'weight_type': 'exptime', 'pixfrac': 1.0, 'kernel': 'square', 'fillval': 'INDEF', 'nlow': 0, 'nhigh': 0, 'maskpt': 0.7, 'grow': 1, 'snr': '4.0 3.0', 'scale': '0.5 0.4', 'backg': 0.0, 'save_intermediate_results': False, 'resample_data': True, 'good_bits': '~DO_NOT_USE', 'scale_detection': False}\n"
     ]
    },
    {
     "name": "stderr",
     "output_type": "stream",
     "text": [
      "2020-12-09 17:01:34,606 - stpipe.Coron3Pipeline.outlier_detection - WARNING - Input only contains 1 integration\n"
     ]
    },
    {
     "name": "stderr",
     "output_type": "stream",
     "text": [
      "2020-12-09 17:01:34,607 - stpipe.Coron3Pipeline.outlier_detection - WARNING - Outlier detection step will be skipped\n"
     ]
    },
    {
     "name": "stderr",
     "output_type": "stream",
     "text": [
      "2020-12-09 17:01:34,609 - stpipe.Coron3Pipeline.outlier_detection - INFO - Step outlier_detection done\n"
     ]
    },
    {
     "name": "stderr",
     "output_type": "stream",
     "text": [
      "2020-12-09 17:01:34,689 - stpipe.Coron3Pipeline.outlier_detection - INFO - Step outlier_detection running with args (<CubeModel(1, 224, 288) from new_ref_2.fits>,).\n"
     ]
    },
    {
     "name": "stderr",
     "output_type": "stream",
     "text": [
      "2020-12-09 17:01:34,692 - stpipe.Coron3Pipeline.outlier_detection - INFO - Step outlier_detection parameters are: {'pre_hooks': [], 'post_hooks': [], 'output_file': None, 'output_dir': None, 'output_ext': '.fits', 'output_use_model': False, 'output_use_index': True, 'save_results': True, 'skip': False, 'suffix': 'c1001_crfints', 'search_output_file': False, 'input_dir': '', 'weight_type': 'exptime', 'pixfrac': 1.0, 'kernel': 'square', 'fillval': 'INDEF', 'nlow': 0, 'nhigh': 0, 'maskpt': 0.7, 'grow': 1, 'snr': '4.0 3.0', 'scale': '0.5 0.4', 'backg': 0.0, 'save_intermediate_results': False, 'resample_data': True, 'good_bits': '~DO_NOT_USE', 'scale_detection': False}\n"
     ]
    },
    {
     "name": "stderr",
     "output_type": "stream",
     "text": [
      "2020-12-09 17:01:34,703 - stpipe.Coron3Pipeline.outlier_detection - WARNING - Input only contains 1 integration\n"
     ]
    },
    {
     "name": "stderr",
     "output_type": "stream",
     "text": [
      "2020-12-09 17:01:34,707 - stpipe.Coron3Pipeline.outlier_detection - WARNING - Outlier detection step will be skipped\n"
     ]
    },
    {
     "name": "stderr",
     "output_type": "stream",
     "text": [
      "2020-12-09 17:01:34,708 - stpipe.Coron3Pipeline.outlier_detection - INFO - Step outlier_detection done\n"
     ]
    },
    {
     "name": "stderr",
     "output_type": "stream",
     "text": [
      "2020-12-09 17:01:34,790 - stpipe.Coron3Pipeline.outlier_detection - INFO - Step outlier_detection running with args (<CubeModel(1, 224, 288) from new_ref_1.fits>,).\n"
     ]
    },
    {
     "name": "stderr",
     "output_type": "stream",
     "text": [
      "2020-12-09 17:01:34,792 - stpipe.Coron3Pipeline.outlier_detection - INFO - Step outlier_detection parameters are: {'pre_hooks': [], 'post_hooks': [], 'output_file': None, 'output_dir': None, 'output_ext': '.fits', 'output_use_model': False, 'output_use_index': True, 'save_results': True, 'skip': False, 'suffix': 'c1001_crfints', 'search_output_file': False, 'input_dir': '', 'weight_type': 'exptime', 'pixfrac': 1.0, 'kernel': 'square', 'fillval': 'INDEF', 'nlow': 0, 'nhigh': 0, 'maskpt': 0.7, 'grow': 1, 'snr': '4.0 3.0', 'scale': '0.5 0.4', 'backg': 0.0, 'save_intermediate_results': False, 'resample_data': True, 'good_bits': '~DO_NOT_USE', 'scale_detection': False}\n"
     ]
    },
    {
     "name": "stderr",
     "output_type": "stream",
     "text": [
      "2020-12-09 17:01:34,804 - stpipe.Coron3Pipeline.outlier_detection - WARNING - Input only contains 1 integration\n"
     ]
    },
    {
     "name": "stderr",
     "output_type": "stream",
     "text": [
      "2020-12-09 17:01:34,805 - stpipe.Coron3Pipeline.outlier_detection - WARNING - Outlier detection step will be skipped\n"
     ]
    },
    {
     "name": "stderr",
     "output_type": "stream",
     "text": [
      "2020-12-09 17:01:34,806 - stpipe.Coron3Pipeline.outlier_detection - INFO - Step outlier_detection done\n"
     ]
    },
    {
     "name": "stderr",
     "output_type": "stream",
     "text": [
      "2020-12-09 17:01:34,890 - stpipe.Coron3Pipeline.outlier_detection - INFO - Step outlier_detection running with args (<CubeModel(1, 224, 288) from new_ref_0.fits>,).\n"
     ]
    },
    {
     "name": "stderr",
     "output_type": "stream",
     "text": [
      "2020-12-09 17:01:34,893 - stpipe.Coron3Pipeline.outlier_detection - INFO - Step outlier_detection parameters are: {'pre_hooks': [], 'post_hooks': [], 'output_file': None, 'output_dir': None, 'output_ext': '.fits', 'output_use_model': False, 'output_use_index': True, 'save_results': True, 'skip': False, 'suffix': 'c1001_crfints', 'search_output_file': False, 'input_dir': '', 'weight_type': 'exptime', 'pixfrac': 1.0, 'kernel': 'square', 'fillval': 'INDEF', 'nlow': 0, 'nhigh': 0, 'maskpt': 0.7, 'grow': 1, 'snr': '4.0 3.0', 'scale': '0.5 0.4', 'backg': 0.0, 'save_intermediate_results': False, 'resample_data': True, 'good_bits': '~DO_NOT_USE', 'scale_detection': False}\n"
     ]
    },
    {
     "name": "stderr",
     "output_type": "stream",
     "text": [
      "2020-12-09 17:01:34,904 - stpipe.Coron3Pipeline.outlier_detection - WARNING - Input only contains 1 integration\n"
     ]
    },
    {
     "name": "stderr",
     "output_type": "stream",
     "text": [
      "2020-12-09 17:01:34,906 - stpipe.Coron3Pipeline.outlier_detection - WARNING - Outlier detection step will be skipped\n"
     ]
    },
    {
     "name": "stderr",
     "output_type": "stream",
     "text": [
      "2020-12-09 17:01:34,907 - stpipe.Coron3Pipeline.outlier_detection - INFO - Step outlier_detection done\n"
     ]
    },
    {
     "name": "stderr",
     "output_type": "stream",
     "text": [
      "2020-12-09 17:01:34,988 - stpipe.Coron3Pipeline.stack_refs - INFO - Step stack_refs running with args (<ModelContainer>,).\n"
     ]
    },
    {
     "name": "stderr",
     "output_type": "stream",
     "text": [
      "2020-12-09 17:01:34,990 - stpipe.Coron3Pipeline.stack_refs - INFO - Step stack_refs parameters are: {'pre_hooks': [], 'post_hooks': [], 'output_file': None, 'output_dir': None, 'output_ext': '.fits', 'output_use_model': False, 'output_use_index': True, 'save_results': False, 'skip': False, 'suffix': None, 'search_output_file': True, 'input_dir': ''}\n"
     ]
    },
    {
     "name": "stderr",
     "output_type": "stream",
     "text": [
      "2020-12-09 17:01:34,997 - stpipe.Coron3Pipeline.stack_refs - INFO -  Adding psf member 1 to output stack\n"
     ]
    },
    {
     "name": "stderr",
     "output_type": "stream",
     "text": [
      "2020-12-09 17:01:34,999 - stpipe.Coron3Pipeline.stack_refs - INFO -  Adding psf member 2 to output stack\n"
     ]
    },
    {
     "name": "stderr",
     "output_type": "stream",
     "text": [
      "2020-12-09 17:01:35,001 - stpipe.Coron3Pipeline.stack_refs - INFO -  Adding psf member 3 to output stack\n"
     ]
    },
    {
     "name": "stderr",
     "output_type": "stream",
     "text": [
      "2020-12-09 17:01:35,003 - stpipe.Coron3Pipeline.stack_refs - INFO -  Adding psf member 4 to output stack\n"
     ]
    },
    {
     "name": "stderr",
     "output_type": "stream",
     "text": [
      "2020-12-09 17:01:35,005 - stpipe.Coron3Pipeline.stack_refs - INFO -  Adding psf member 5 to output stack\n"
     ]
    },
    {
     "name": "stderr",
     "output_type": "stream",
     "text": [
      "2020-12-09 17:01:35,007 - stpipe.Coron3Pipeline.stack_refs - INFO -  Adding psf member 6 to output stack\n"
     ]
    },
    {
     "name": "stderr",
     "output_type": "stream",
     "text": [
      "2020-12-09 17:01:35,009 - stpipe.Coron3Pipeline.stack_refs - INFO -  Adding psf member 7 to output stack\n"
     ]
    },
    {
     "name": "stderr",
     "output_type": "stream",
     "text": [
      "2020-12-09 17:01:35,011 - stpipe.Coron3Pipeline.stack_refs - INFO -  Adding psf member 8 to output stack\n"
     ]
    },
    {
     "name": "stderr",
     "output_type": "stream",
     "text": [
      "2020-12-09 17:01:35,013 - stpipe.Coron3Pipeline.stack_refs - INFO -  Adding psf member 9 to output stack\n"
     ]
    },
    {
     "name": "stderr",
     "output_type": "stream",
     "text": [
      "2020-12-09 17:01:35,043 - stpipe.Coron3Pipeline.stack_refs - INFO - Step stack_refs done\n"
     ]
    },
    {
     "name": "stderr",
     "output_type": "stream",
     "text": [
      "2020-12-09 17:01:35,175 - stpipe.Coron3Pipeline - INFO - Saved model in /data1/jenkins/workspace/Notebooks/jwst_validation_notebooks_spacetelescope/jwst_validation_notebooks/calwebb_coron3/jw10005-miri-mask1065_psfstack.fits\n"
     ]
    },
    {
     "name": "stderr",
     "output_type": "stream",
     "text": [
      "2020-12-09 17:01:35,626 - stpipe.Coron3Pipeline.outlier_detection - INFO - Step outlier_detection running with args (<CubeModel(1, 224, 288) from new_targ.fits>,).\n"
     ]
    },
    {
     "name": "stderr",
     "output_type": "stream",
     "text": [
      "2020-12-09 17:01:35,629 - stpipe.Coron3Pipeline.outlier_detection - INFO - Step outlier_detection parameters are: {'pre_hooks': [], 'post_hooks': [], 'output_file': None, 'output_dir': None, 'output_ext': '.fits', 'output_use_model': False, 'output_use_index': True, 'save_results': True, 'skip': False, 'suffix': 'c1001_crfints', 'search_output_file': False, 'input_dir': '', 'weight_type': 'exptime', 'pixfrac': 1.0, 'kernel': 'square', 'fillval': 'INDEF', 'nlow': 0, 'nhigh': 0, 'maskpt': 0.7, 'grow': 1, 'snr': '4.0 3.0', 'scale': '0.5 0.4', 'backg': 0.0, 'save_intermediate_results': False, 'resample_data': True, 'good_bits': '~DO_NOT_USE', 'scale_detection': False}\n"
     ]
    },
    {
     "name": "stderr",
     "output_type": "stream",
     "text": [
      "2020-12-09 17:01:35,641 - stpipe.Coron3Pipeline.outlier_detection - WARNING - Input only contains 1 integration\n"
     ]
    },
    {
     "name": "stderr",
     "output_type": "stream",
     "text": [
      "2020-12-09 17:01:35,641 - stpipe.Coron3Pipeline.outlier_detection - WARNING - Outlier detection step will be skipped\n"
     ]
    },
    {
     "name": "stderr",
     "output_type": "stream",
     "text": [
      "2020-12-09 17:01:35,643 - stpipe.Coron3Pipeline.outlier_detection - INFO - Step outlier_detection done\n"
     ]
    },
    {
     "name": "stderr",
     "output_type": "stream",
     "text": [
      "2020-12-09 17:01:35,730 - stpipe.Coron3Pipeline.align_refs - INFO - Step align_refs running with args (<CubeModel(1, 224, 288) from new_targ.fits>, <CubeModel(9, 224, 288) from jw10005-miri-mask1065_psfstack.fits>).\n"
     ]
    },
    {
     "name": "stderr",
     "output_type": "stream",
     "text": [
      "2020-12-09 17:01:35,733 - stpipe.Coron3Pipeline.align_refs - INFO - Step align_refs parameters are: {'pre_hooks': [], 'post_hooks': [], 'output_file': None, 'output_dir': None, 'output_ext': '.fits', 'output_use_model': False, 'output_use_index': True, 'save_results': False, 'skip': False, 'suffix': None, 'search_output_file': True, 'input_dir': '', 'median_box_length': 4}\n"
     ]
    },
    {
     "name": "stderr",
     "output_type": "stream",
     "text": [
      "2020-12-09 17:01:35,745 - stpipe.Coron3Pipeline.align_refs - INFO - Using PSFMASK reference file /data1/jenkins/workspace/Notebooks/jwst_validation_notebooks_spacetelescope/jwst_validation_notebooks/calwebb_coron3/jwst_miri_psfmask_0001_new.fits\n"
     ]
    },
    {
     "name": "stderr",
     "output_type": "stream",
     "text": [
      "2020-12-09 17:01:37,567 - stpipe.Coron3Pipeline.align_refs - INFO - Step align_refs done\n"
     ]
    },
    {
     "name": "stderr",
     "output_type": "stream",
     "text": [
      "2020-12-09 17:01:37,672 - stpipe.Coron3Pipeline - INFO - Saved model in /data1/jenkins/workspace/Notebooks/jwst_validation_notebooks_spacetelescope/jwst_validation_notebooks/calwebb_coron3/new_targ_c1001_psfalign.fits\n"
     ]
    },
    {
     "name": "stderr",
     "output_type": "stream",
     "text": [
      "2020-12-09 17:01:37,774 - stpipe.Coron3Pipeline.klip - INFO - Step klip running with args (<CubeModel(1, 224, 288) from new_targ.fits>, <QuadModel(1, 9, 224, 288) from new_targ_c1001_psfalign.fits>).\n"
     ]
    },
    {
     "name": "stderr",
     "output_type": "stream",
     "text": [
      "2020-12-09 17:01:37,776 - stpipe.Coron3Pipeline.klip - INFO - Step klip parameters are: {'pre_hooks': [], 'post_hooks': [], 'output_file': None, 'output_dir': None, 'output_ext': '.fits', 'output_use_model': False, 'output_use_index': True, 'save_results': False, 'skip': False, 'suffix': None, 'search_output_file': True, 'input_dir': '', 'truncate': 50}\n"
     ]
    },
    {
     "name": "stderr",
     "output_type": "stream",
     "text": [
      "2020-12-09 17:01:37,788 - stpipe.Coron3Pipeline.klip - INFO - KL transform truncation = 50\n"
     ]
    },
    {
     "name": "stderr",
     "output_type": "stream",
     "text": [
      "2020-12-09 17:01:38,058 - stpipe.Coron3Pipeline.klip - INFO - Step klip done\n"
     ]
    },
    {
     "name": "stderr",
     "output_type": "stream",
     "text": [
      "2020-12-09 17:01:38,293 - stpipe.Coron3Pipeline - INFO - Saved model in /data1/jenkins/workspace/Notebooks/jwst_validation_notebooks_spacetelescope/jwst_validation_notebooks/calwebb_coron3/new_targ_c1001_psfsub.fits\n"
     ]
    },
    {
     "name": "stderr",
     "output_type": "stream",
     "text": [
      "2020-12-09 17:01:38,497 - stpipe.Coron3Pipeline.resample - INFO - Step resample running with args (<ModelContainer>,).\n"
     ]
    },
    {
     "name": "stderr",
     "output_type": "stream",
     "text": [
      "2020-12-09 17:01:38,500 - stpipe.Coron3Pipeline.resample - INFO - Step resample parameters are: {'pre_hooks': [], 'post_hooks': [], 'output_file': None, 'output_dir': None, 'output_ext': '.fits', 'output_use_model': False, 'output_use_index': True, 'save_results': False, 'skip': True, 'suffix': None, 'search_output_file': True, 'input_dir': '', 'pixfrac': 1.0, 'kernel': 'square', 'fillval': 'INDEF', 'weight_type': 'exptime', 'single': False, 'blendheaders': False}\n"
     ]
    },
    {
     "name": "stderr",
     "output_type": "stream",
     "text": [
      "2020-12-09 17:01:38,501 - stpipe.Coron3Pipeline.resample - INFO - Step skipped.\n"
     ]
    },
    {
     "name": "stderr",
     "output_type": "stream",
     "text": [
      "2020-12-09 17:01:38,502 - stpipe.Coron3Pipeline.resample - INFO - Step resample done\n"
     ]
    },
    {
     "name": "stderr",
     "output_type": "stream",
     "text": [
      "2020-12-09 17:01:38,702 - stpipe.Coron3Pipeline - INFO - Saved model in /data1/jenkins/workspace/Notebooks/jwst_validation_notebooks_spacetelescope/jwst_validation_notebooks/calwebb_coron3/jw10005-miri-mask1065_i2d.fits\n"
     ]
    },
    {
     "name": "stderr",
     "output_type": "stream",
     "text": [
      "2020-12-09 17:01:38,703 - stpipe.Coron3Pipeline - INFO - ...ending calwebb_coron3\n"
     ]
    },
    {
     "name": "stderr",
     "output_type": "stream",
     "text": [
      "2020-12-09 17:01:38,704 - stpipe.Coron3Pipeline - INFO - Step Coron3Pipeline done\n"
     ]
    }
   ],
   "source": [
    "asn_dir = 'test.yml'\n",
    "myCoron3Pipeline = Coron3Pipeline()\n",
    "myCoron3Pipeline.save_results = True\n",
    "myCoron3Pipeline.align_refs.override_psfmask = psf_mask_dir\n",
    "myCoron3Pipeline.output_dir = os.getcwd() \n",
    "myCoron3Pipeline.resample.skip = True\n",
    "myCoron3Pipeline.run(asn_dir)"
   ]
  },
  {
   "cell_type": "markdown",
   "metadata": {},
   "source": [
    "<a id=\"indata\"></a>\n",
    "## Input Data Description"
   ]
  },
  {
   "cell_type": "markdown",
   "metadata": {},
   "source": [
    "As mentioned in the intro, the simulated psfs were generated using panCake and then the data was edited by me to make it more accurate (correct size and placement of psf on MIRI coron subarray) and enable it to be fed through the JWST CALCORON3 pipeline (changing, filling in missing header keywords, etc.).\n",
    "- Simulated Data was generated for MIRI 1065C 4QPM.\n",
    "- One target PSF with 9 reference PSFs from 9-point small grid dither.\n",
    "- Target PSF\n",
    "    - filename is 'new_targ.fits'\n",
    "    - one integration\n",
    "    - 2 fake companions (i.e. simulated dim 'planet psfs') injected into the target\n",
    "- Reference PSFS\n",
    "    - similar magnitude at target\n",
    "    - 9 reference psfs, simulating a small grid dither technique\n",
    "    - filenames are 'new_ref_[n].fits' with n from 0 to 8\n",
    "    - reference psfs contain no fake companions"
   ]
  },
  {
   "cell_type": "markdown",
   "metadata": {},
   "source": [
    "<a id=\"examine_outdata\"></a>\n",
    "## Examine output data"
   ]
  },
  {
   "cell_type": "markdown",
   "metadata": {},
   "source": [
    "### stack_refs step: Reference Images before Alignment - checking *_psfstack.fits data product"
   ]
  },
  {
   "cell_type": "code",
   "execution_count": 7,
   "metadata": {
    "execution": {
     "iopub.execute_input": "2020-12-09T22:01:38.717804Z",
     "iopub.status.busy": "2020-12-09T22:01:38.713154Z",
     "iopub.status.idle": "2020-12-09T22:01:38.727706Z",
     "shell.execute_reply": "2020-12-09T22:01:38.727023Z"
    }
   },
   "outputs": [
    {
     "name": "stdout",
     "output_type": "stream",
     "text": [
      "Filename: jw10005-miri-mask1065_psfstack.fits\n",
      "No.    Name      Ver    Type      Cards   Dimensions   Format\n",
      "  0  PRIMARY       1 PrimaryHDU     323   ()      \n",
      "  1  SCI           1 ImageHDU        66   (288, 224, 9)   float32   \n",
      "  2  ERR           1 ImageHDU        11   (288, 224, 9)   float32   \n",
      "  3  DQ            1 ImageHDU        12   (288, 224, 9)   int32 (rescales to uint32)   \n",
      "  4  ASDF          1 BinTableHDU     11   1R x 1C   [5186B]   \n"
     ]
    },
    {
     "name": "stdout",
     "output_type": "stream",
     "text": [
      "None\n"
     ]
    }
   ],
   "source": [
    "unaligned_cube_hdu = fits.open('jw10005-miri-mask1065_psfstack.fits')\n",
    "ref_images = unaligned_cube_hdu[1].data\n",
    "print(unaligned_cube_hdu.info())"
   ]
  },
  {
   "cell_type": "code",
   "execution_count": 8,
   "metadata": {
    "ExecuteTime": {
     "end_time": "2020-08-31T18:35:18.791123Z",
     "start_time": "2020-08-31T18:35:18.210435Z"
    },
    "execution": {
     "iopub.execute_input": "2020-12-09T22:01:38.749366Z",
     "iopub.status.busy": "2020-12-09T22:01:38.740045Z",
     "iopub.status.idle": "2020-12-09T22:01:38.984187Z",
     "shell.execute_reply": "2020-12-09T22:01:38.983625Z"
    }
   },
   "outputs": [
    {
     "data": {
      "application/vnd.jupyter.widget-view+json": {
       "model_id": "7ddd81be948a475d8ab753d50d0ea620",
       "version_major": 2,
       "version_minor": 0
      },
      "text/plain": [
       "VBox(children=(Output(), Button(description='Next', style=ButtonStyle())))"
      ]
     },
     "metadata": {},
     "output_type": "display_data"
    }
   ],
   "source": [
    "out=widgets.Output()\n",
    "button=widgets.Button(description='Next')\n",
    "vbox=widgets.VBox(children=(out,button))\n",
    "display(vbox)\n",
    "index = 0\n",
    "def click(b):\n",
    "    global index\n",
    "    index = index % len(ref_images)\n",
    "    im = plt.imshow(ref_images[index], vmin = 0, vmax = 20,interpolation =\"none\") \n",
    "    index += 1 \n",
    "    with out:\n",
    "        clear_output(wait=True)\n",
    "        plt.show() \n",
    "\n",
    "button.on_click(click)\n",
    "click(None)"
   ]
  },
  {
   "cell_type": "markdown",
   "metadata": {},
   "source": [
    "The stack_refs step has correctly stacked all 9 small grid dither images. Note that when you clcik through the images in the cube, they are not aligned. Also note that the panCake Output is 80x80 (so it was necessary to properly pad these images and center them correctly in the coronagraphic subarray."
   ]
  },
  {
   "cell_type": "markdown",
   "metadata": {},
   "source": [
    "### align_refs step: Reference Images After Alignment  - checking *_psfalign.fits data product"
   ]
  },
  {
   "cell_type": "code",
   "execution_count": 9,
   "metadata": {
    "ExecuteTime": {
     "end_time": "2020-08-31T18:35:48.328170Z",
     "start_time": "2020-08-31T18:35:48.316312Z"
    },
    "execution": {
     "iopub.execute_input": "2020-12-09T22:01:38.994592Z",
     "iopub.status.busy": "2020-12-09T22:01:38.992987Z",
     "iopub.status.idle": "2020-12-09T22:01:39.002303Z",
     "shell.execute_reply": "2020-12-09T22:01:39.001731Z"
    }
   },
   "outputs": [
    {
     "name": "stdout",
     "output_type": "stream",
     "text": [
      "Filename: new_targ_c1001_psfalign.fits\n",
      "No.    Name      Ver    Type      Cards   Dimensions   Format\n",
      "  0  PRIMARY       1 PrimaryHDU     324   ()      \n",
      "  1  SCI           1 ImageHDU        67   (288, 224, 9, 1)   float32   \n",
      "  2  ERR           1 ImageHDU        12   (288, 224, 9, 1)   float32   \n",
      "  3  DQ            1 ImageHDU        13   (288, 224, 9, 1)   int32 (rescales to uint32)   \n",
      "  4  ASDF          1 BinTableHDU     11   1R x 1C   [5240B]   \n"
     ]
    }
   ],
   "source": [
    "aligned_cube_hdu = fits.open('new_targ_c1001_psfalign.fits')\n",
    "aligned_cube_hdu.info()"
   ]
  },
  {
   "cell_type": "code",
   "execution_count": 10,
   "metadata": {
    "ExecuteTime": {
     "end_time": "2020-08-31T18:35:48.597673Z",
     "start_time": "2020-08-31T18:35:48.586235Z"
    },
    "execution": {
     "iopub.execute_input": "2020-12-09T22:01:39.006510Z",
     "iopub.status.busy": "2020-12-09T22:01:39.005850Z",
     "iopub.status.idle": "2020-12-09T22:01:39.009558Z",
     "shell.execute_reply": "2020-12-09T22:01:39.008889Z"
    }
   },
   "outputs": [
    {
     "name": "stdout",
     "output_type": "stream",
     "text": [
      "(9, 224, 288)\n"
     ]
    }
   ],
   "source": [
    "aligned_cube_data = (aligned_cube_hdu[1].data)[0]\n",
    "print(aligned_cube_data.shape)"
   ]
  },
  {
   "cell_type": "code",
   "execution_count": 11,
   "metadata": {
    "ExecuteTime": {
     "end_time": "2020-08-31T18:35:53.119967Z",
     "start_time": "2020-08-31T18:35:52.053077Z"
    },
    "execution": {
     "iopub.execute_input": "2020-12-09T22:01:39.031000Z",
     "iopub.status.busy": "2020-12-09T22:01:39.030366Z",
     "iopub.status.idle": "2020-12-09T22:01:39.207892Z",
     "shell.execute_reply": "2020-12-09T22:01:39.207219Z"
    }
   },
   "outputs": [
    {
     "data": {
      "application/vnd.jupyter.widget-view+json": {
       "model_id": "d4e71be441434ab992d058ccf41190cd",
       "version_major": 2,
       "version_minor": 0
      },
      "text/plain": [
       "VBox(children=(Output(), Button(description='Next', style=ButtonStyle())))"
      ]
     },
     "metadata": {},
     "output_type": "display_data"
    }
   ],
   "source": [
    "out=widgets.Output()\n",
    "button=widgets.Button(description='Next')\n",
    "vbox=widgets.VBox(children=(out,button))\n",
    "display(vbox)\n",
    "index = 0\n",
    "def click(b):\n",
    "    global index\n",
    "    index = index % len(aligned_cube_data)\n",
    "    im = plt.imshow(aligned_cube_data[index], vmin = 0, vmax = 20,interpolation =\"none\") \n",
    "    index += 1 \n",
    "    with out:\n",
    "        clear_output(wait=True)\n",
    "        plt.show() \n",
    "\n",
    "button.on_click(click)\n",
    "click(None)"
   ]
  },
  {
   "cell_type": "markdown",
   "metadata": {},
   "source": [
    "The align_refs step has successfully aligned the psfs - note the stability when clicking through the images in the cube."
   ]
  },
  {
   "cell_type": "markdown",
   "metadata": {},
   "source": [
    "### klip step: Examining the Subtracted Image - checking the *_psfsub.fits data product"
   ]
  },
  {
   "cell_type": "code",
   "execution_count": 12,
   "metadata": {
    "ExecuteTime": {
     "end_time": "2020-08-31T18:36:06.307919Z",
     "start_time": "2020-08-31T18:36:06.293375Z"
    },
    "execution": {
     "iopub.execute_input": "2020-12-09T22:01:39.213534Z",
     "iopub.status.busy": "2020-12-09T22:01:39.212891Z",
     "iopub.status.idle": "2020-12-09T22:01:39.231631Z",
     "shell.execute_reply": "2020-12-09T22:01:39.230942Z"
    }
   },
   "outputs": [
    {
     "name": "stdout",
     "output_type": "stream",
     "text": [
      "Filename: new_targ_c1001_psfsub.fits\n",
      "No.    Name      Ver    Type      Cards   Dimensions   Format\n",
      "  0  PRIMARY       1 PrimaryHDU     324   ()      \n",
      "  1  SCI           1 ImageHDU        66   (288, 224, 1)   float32   \n",
      "  2  ERR           1 ImageHDU        11   (288, 224, 1)   float32   \n",
      "  3  DQ            1 ImageHDU        12   (288, 224, 1)   int32 (rescales to uint32)   \n",
      "  4  INT_TIMES     1 BinTableHDU     24   0R x 7C   [J, D, D, D, D, D, D]   \n",
      "  5  VAR_POISSON    1 ImageHDU        10   (288, 224, 1)   float32   \n",
      "  6  VAR_RNOISE    1 ImageHDU        10   (288, 224, 1)   float32   \n",
      "  7  ASDF          1 BinTableHDU     11   1R x 1C   [20787B]   \n"
     ]
    }
   ],
   "source": [
    "sub_hdu = fits.open('new_targ_c1001_psfsub.fits')\n",
    "sub_hdu.info()"
   ]
  },
  {
   "cell_type": "code",
   "execution_count": 13,
   "metadata": {
    "ExecuteTime": {
     "end_time": "2020-08-31T18:36:06.584047Z",
     "start_time": "2020-08-31T18:36:06.573619Z"
    },
    "execution": {
     "iopub.execute_input": "2020-12-09T22:01:39.235823Z",
     "iopub.status.busy": "2020-12-09T22:01:39.235177Z",
     "iopub.status.idle": "2020-12-09T22:01:39.237639Z",
     "shell.execute_reply": "2020-12-09T22:01:39.238116Z"
    }
   },
   "outputs": [],
   "source": [
    "subtracted_image = sub_hdu[1].data[0]"
   ]
  },
  {
   "cell_type": "code",
   "execution_count": 14,
   "metadata": {
    "ExecuteTime": {
     "end_time": "2020-08-31T18:36:07.033930Z",
     "start_time": "2020-08-31T18:36:06.847919Z"
    },
    "execution": {
     "iopub.execute_input": "2020-12-09T22:01:39.261795Z",
     "iopub.status.busy": "2020-12-09T22:01:39.242212Z",
     "iopub.status.idle": "2020-12-09T22:01:39.453129Z",
     "shell.execute_reply": "2020-12-09T22:01:39.453631Z"
    }
   },
   "outputs": [
    {
     "data": {
      "text/plain": [
       "<matplotlib.image.AxesImage at 0x7f0bd3603710>"
      ]
     },
     "execution_count": 1,
     "metadata": {},
     "output_type": "execute_result"
    },
    {
     "data": {
      "image/png": "[encoded data removed]",
      "text/plain": [
       "<Figure size 432x288 with 1 Axes>"
      ]
     },
     "metadata": {
      "needs_background": "light"
     },
     "output_type": "display_data"
    }
   ],
   "source": [
    "plt.figure()\n",
    "plt.imshow(subtracted_image,vmin = 0, vmax = 10,interpolation =\"none\")"
   ]
  },
  {
   "cell_type": "markdown",
   "metadata": {},
   "source": [
    "Here we see that Klip has successfully made a synthetic psf reference image which was subtracted from the target PSF - indeed, we see that we recover the two companions that we injected into the target PSF"
   ]
  },
  {
   "cell_type": "markdown",
   "metadata": {},
   "source": [
    "<a id=\"future_testing\"></a>\n",
    "## Testing Needed in the Near Future "
   ]
  },
  {
   "cell_type": "markdown",
   "metadata": {},
   "source": [
    "- The outlier_detection step will be tested in '0.17.1' ain conjunction with the three steps above\n",
    "- Need to generate similar datasets for LYOT and the two other 4QPMs, and verify that the updates I made to the other PSFMASK reference files will perform as expected. The current PSFMASK reference files for MIRI are incorrect (wrong shape and not centered correctly around the coronagraphic obstruction)\n",
    "- Need to properly test the 'resample' step in calcoron3 using a psf target with a fake companion injection, with target images taken at two different orientations. Using WCS header info, the resample step should correctly combine the two subtracted images (i.e. derotating and combining them correctly). "
   ]
  },
  {
   "cell_type": "markdown",
   "metadata": {},
   "source": [
    "<a id=\"about_ID\"></a>\n",
    "## About this Notebook\n",
    "**Author:** J. Brendan Hagan, Staff Scientist, MIRI Branch\n",
    "<br>**Updated On:** 09/23/2020"
   ]
  }
 ],
 "metadata": {
  "kernelspec": {
   "display_name": "Python 3",
   "language": "python",
   "name": "python3"
  },
  "language_info": {
   "codemirror_mode": {
    "name": "ipython",
    "version": 3
   },
   "file_extension": ".py",
   "mimetype": "text/x-python",
   "name": "python",
   "nbconvert_exporter": "python",
   "pygments_lexer": "ipython3",
   "version": "3.7.9"
  },
  "toc": {
   "base_numbering": 1,
   "nav_menu": {},
   "number_sections": true,
   "sideBar": true,
   "skip_h1_title": false,
   "title_cell": "Table of Contents",
   "title_sidebar": "Contents",
   "toc_cell": false,
   "toc_position": {},
   "toc_section_display": true,
   "toc_window_display": false
  },
  "varInspector": {
   "cols": {
    "lenName": 16,
    "lenType": 16,
    "lenVar": 40
   },
   "kernels_config": {
    "python": {
     "delete_cmd_postfix": "",
     "delete_cmd_prefix": "del ",
     "library": "var_list.py",
     "varRefreshCmd": "print(var_dic_list())"
    },
    "r": {
     "delete_cmd_postfix": ") ",
     "delete_cmd_prefix": "rm(",
     "library": "var_list.r",
     "varRefreshCmd": "cat(var_dic_list()) "
    }
   },
   "types_to_exclude": [
    "module",
    "function",
    "builtin_function_or_method",
    "instance",
    "_Feature"
   ],
   "window_display": false
  },
  "widgets": {
   "application/vnd.jupyter.widget-state+json": {
    "state": {
     "0b0f643f04eb4187a3858105664a5aa6": {
      "model_module": "@jupyter-widgets/base",
      "model_module_version": "1.2.0",
      "model_name": "LayoutModel",
      "state": {
       "_model_module": "@jupyter-widgets/base",
       "_model_module_version": "1.2.0",
       "_model_name": "LayoutModel",
       "_view_count": null,
       "_view_module": "@jupyter-widgets/base",
       "_view_module_version": "1.2.0",
       "_view_name": "LayoutView",
       "align_content": null,
       "align_items": null,
       "align_self": null,
       "border": null,
       "bottom": null,
       "display": null,
       "flex": null,
       "flex_flow": null,
       "grid_area": null,
       "grid_auto_columns": null,
       "grid_auto_flow": null,
       "grid_auto_rows": null,
       "grid_column": null,
       "grid_gap": null,
       "grid_row": null,
       "grid_template_areas": null,
       "grid_template_columns": null,
       "grid_template_rows": null,
       "height": null,
       "justify_content": null,
       "justify_items": null,
       "left": null,
       "margin": null,
       "max_height": null,
       "max_width": null,
       "min_height": null,
       "min_width": null,
       "object_fit": null,
       "object_position": null,
       "order": null,
       "overflow": null,
       "overflow_x": null,
       "overflow_y": null,
       "padding": null,
       "right": null,
       "top": null,
       "visibility": null,
       "width": null
      }
     },
     "0b3bfc68252840e6990e6392cf074736": {
      "model_module": "@jupyter-widgets/base",
      "model_module_version": "1.2.0",
      "model_name": "LayoutModel",
      "state": {
       "_model_module": "@jupyter-widgets/base",
       "_model_module_version": "1.2.0",
       "_model_name": "LayoutModel",
       "_view_count": null,
       "_view_module": "@jupyter-widgets/base",
       "_view_module_version": "1.2.0",
       "_view_name": "LayoutView",
       "align_content": null,
       "align_items": null,
       "align_self": null,
       "border": null,
       "bottom": null,
       "display": null,
       "flex": null,
       "flex_flow": null,
       "grid_area": null,
       "grid_auto_columns": null,
       "grid_auto_flow": null,
       "grid_auto_rows": null,
       "grid_column": null,
       "grid_gap": null,
       "grid_row": null,
       "grid_template_areas": null,
       "grid_template_columns": null,
       "grid_template_rows": null,
       "height": null,
       "justify_content": null,
       "justify_items": null,
       "left": null,
       "margin": null,
       "max_height": null,
       "max_width": null,
       "min_height": null,
       "min_width": null,
       "object_fit": null,
       "object_position": null,
       "order": null,
       "overflow": null,
       "overflow_x": null,
       "overflow_y": null,
       "padding": null,
       "right": null,
       "top": null,
       "visibility": null,
       "width": null
      }
     },
     "1140b3fbeaae4e9a9d6770c45fac965d": {
      "model_module": "@jupyter-widgets/output",
      "model_module_version": "1.0.0",
      "model_name": "OutputModel",
      "state": {
       "_dom_classes": [],
       "_model_module": "@jupyter-widgets/output",
       "_model_module_version": "1.0.0",
       "_model_name": "OutputModel",
       "_view_count": null,
       "_view_module": "@jupyter-widgets/output",
       "_view_module_version": "1.0.0",
       "_view_name": "OutputView",
       "layout": "IPY_MODEL_ecf9b369db9a4b82aab2e992d0c8d38f",
       "msg_id": "",
       "outputs": [
        {
         "data": {
          "image/png": "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\n",
          "text/plain": "<Figure size 432x288 with 1 Axes>"
         },
         "metadata": {
          "needs_background": "light"
         },
         "output_type": "display_data"
        }
       ]
      }
     },
     "225e53792c37402ebdf18883486cc20c": {
      "model_module": "@jupyter-widgets/base",
      "model_module_version": "1.2.0",
      "model_name": "LayoutModel",
      "state": {
       "_model_module": "@jupyter-widgets/base",
       "_model_module_version": "1.2.0",
       "_model_name": "LayoutModel",
       "_view_count": null,
       "_view_module": "@jupyter-widgets/base",
       "_view_module_version": "1.2.0",
       "_view_name": "LayoutView",
       "align_content": null,
       "align_items": null,
       "align_self": null,
       "border": null,
       "bottom": null,
       "display": null,
       "flex": null,
       "flex_flow": null,
       "grid_area": null,
       "grid_auto_columns": null,
       "grid_auto_flow": null,
       "grid_auto_rows": null,
       "grid_column": null,
       "grid_gap": null,
       "grid_row": null,
       "grid_template_areas": null,
       "grid_template_columns": null,
       "grid_template_rows": null,
       "height": null,
       "justify_content": null,
       "justify_items": null,
       "left": null,
       "margin": null,
       "max_height": null,
       "max_width": null,
       "min_height": null,
       "min_width": null,
       "object_fit": null,
       "object_position": null,
       "order": null,
       "overflow": null,
       "overflow_x": null,
       "overflow_y": null,
       "padding": null,
       "right": null,
       "top": null,
       "visibility": null,
       "width": null
      }
     },
     "4d6227338afe4e8aa4216d8b1e2562ad": {
      "model_module": "@jupyter-widgets/output",
      "model_module_version": "1.0.0",
      "model_name": "OutputModel",
      "state": {
       "_dom_classes": [],
       "_model_module": "@jupyter-widgets/output",
       "_model_module_version": "1.0.0",
       "_model_name": "OutputModel",
       "_view_count": null,
       "_view_module": "@jupyter-widgets/output",
       "_view_module_version": "1.0.0",
       "_view_name": "OutputView",
       "layout": "IPY_MODEL_f6e3fd03af314761a3ccd9a8132f0d4a",
       "msg_id": "",
       "outputs": [
        {
         "data": {
          "image/png": "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\n",
          "text/plain": "<Figure size 432x288 with 1 Axes>"
         },
         "metadata": {
          "needs_background": "light"
         },
         "output_type": "display_data"
        }
       ]
      }
     },
     "526eb47fe3284138bba0ff33305e4d40": {
      "model_module": "@jupyter-widgets/controls",
      "model_module_version": "1.5.0",
      "model_name": "ButtonStyleModel",
      "state": {
       "_model_module": "@jupyter-widgets/controls",
       "_model_module_version": "1.5.0",
       "_model_name": "ButtonStyleModel",
       "_view_count": null,
       "_view_module": "@jupyter-widgets/base",
       "_view_module_version": "1.2.0",
       "_view_name": "StyleView",
       "button_color": null,
       "font_weight": ""
      }
     },
     "75d75c485fb94a2fad3cbf4c7c0f1269": {
      "model_module": "@jupyter-widgets/controls",
      "model_module_version": "1.5.0",
      "model_name": "ButtonModel",
      "state": {
       "_dom_classes": [],
       "_model_module": "@jupyter-widgets/controls",
       "_model_module_version": "1.5.0",
       "_model_name": "ButtonModel",
       "_view_count": null,
       "_view_module": "@jupyter-widgets/controls",
       "_view_module_version": "1.5.0",
       "_view_name": "ButtonView",
       "button_style": "",
       "description": "Next",
       "disabled": false,
       "icon": "",
       "layout": "IPY_MODEL_e85b8eed5d1746f681fe54a6ccd1b5de",
       "style": "IPY_MODEL_526eb47fe3284138bba0ff33305e4d40",
       "tooltip": ""
      }
     },
     "7ddd81be948a475d8ab753d50d0ea620": {
      "model_module": "@jupyter-widgets/controls",
      "model_module_version": "1.5.0",
      "model_name": "VBoxModel",
      "state": {
       "_dom_classes": [],
       "_model_module": "@jupyter-widgets/controls",
       "_model_module_version": "1.5.0",
       "_model_name": "VBoxModel",
       "_view_count": null,
       "_view_module": "@jupyter-widgets/controls",
       "_view_module_version": "1.5.0",
       "_view_name": "VBoxView",
       "box_style": "",
       "children": [
        "IPY_MODEL_1140b3fbeaae4e9a9d6770c45fac965d",
        "IPY_MODEL_75d75c485fb94a2fad3cbf4c7c0f1269"
       ],
       "layout": "IPY_MODEL_0b3bfc68252840e6990e6392cf074736"
      }
     },
     "9781bfe7cc53477cac9388e6a9e756c4": {
      "model_module": "@jupyter-widgets/controls",
      "model_module_version": "1.5.0",
      "model_name": "ButtonModel",
      "state": {
       "_dom_classes": [],
       "_model_module": "@jupyter-widgets/controls",
       "_model_module_version": "1.5.0",
       "_model_name": "ButtonModel",
       "_view_count": null,
       "_view_module": "@jupyter-widgets/controls",
       "_view_module_version": "1.5.0",
       "_view_name": "ButtonView",
       "button_style": "",
       "description": "Next",
       "disabled": false,
       "icon": "",
       "layout": "IPY_MODEL_225e53792c37402ebdf18883486cc20c",
       "style": "IPY_MODEL_c8dad6ee3cae49ad91ee41301400530a",
       "tooltip": ""
      }
     },
     "c8dad6ee3cae49ad91ee41301400530a": {
      "model_module": "@jupyter-widgets/controls",
      "model_module_version": "1.5.0",
      "model_name": "ButtonStyleModel",
      "state": {
       "_model_module": "@jupyter-widgets/controls",
       "_model_module_version": "1.5.0",
       "_model_name": "ButtonStyleModel",
       "_view_count": null,
       "_view_module": "@jupyter-widgets/base",
       "_view_module_version": "1.2.0",
       "_view_name": "StyleView",
       "button_color": null,
       "font_weight": ""
      }
     },
     "d4e71be441434ab992d058ccf41190cd": {
      "model_module": "@jupyter-widgets/controls",
      "model_module_version": "1.5.0",
      "model_name": "VBoxModel",
      "state": {
       "_dom_classes": [],
       "_model_module": "@jupyter-widgets/controls",
       "_model_module_version": "1.5.0",
       "_model_name": "VBoxModel",
       "_view_count": null,
       "_view_module": "@jupyter-widgets/controls",
       "_view_module_version": "1.5.0",
       "_view_name": "VBoxView",
       "box_style": "",
       "children": [
        "IPY_MODEL_4d6227338afe4e8aa4216d8b1e2562ad",
        "IPY_MODEL_9781bfe7cc53477cac9388e6a9e756c4"
       ],
       "layout": "IPY_MODEL_0b0f643f04eb4187a3858105664a5aa6"
      }
     },
     "e85b8eed5d1746f681fe54a6ccd1b5de": {
      "model_module": "@jupyter-widgets/base",
      "model_module_version": "1.2.0",
      "model_name": "LayoutModel",
      "state": {
       "_model_module": "@jupyter-widgets/base",
       "_model_module_version": "1.2.0",
       "_model_name": "LayoutModel",
       "_view_count": null,
       "_view_module": "@jupyter-widgets/base",
       "_view_module_version": "1.2.0",
       "_view_name": "LayoutView",
       "align_content": null,
       "align_items": null,
       "align_self": null,
       "border": null,
       "bottom": null,
       "display": null,
       "flex": null,
       "flex_flow": null,
       "grid_area": null,
       "grid_auto_columns": null,
       "grid_auto_flow": null,
       "grid_auto_rows": null,
       "grid_column": null,
       "grid_gap": null,
       "grid_row": null,
       "grid_template_areas": null,
       "grid_template_columns": null,
       "grid_template_rows": null,
       "height": null,
       "justify_content": null,
       "justify_items": null,
       "left": null,
       "margin": null,
       "max_height": null,
       "max_width": null,
       "min_height": null,
       "min_width": null,
       "object_fit": null,
       "object_position": null,
       "order": null,
       "overflow": null,
       "overflow_x": null,
       "overflow_y": null,
       "padding": null,
       "right": null,
       "top": null,
       "visibility": null,
       "width": null
      }
     },
     "ecf9b369db9a4b82aab2e992d0c8d38f": {
      "model_module": "@jupyter-widgets/base",
      "model_module_version": "1.2.0",
      "model_name": "LayoutModel",
      "state": {
       "_model_module": "@jupyter-widgets/base",
       "_model_module_version": "1.2.0",
       "_model_name": "LayoutModel",
       "_view_count": null,
       "_view_module": "@jupyter-widgets/base",
       "_view_module_version": "1.2.0",
       "_view_name": "LayoutView",
       "align_content": null,
       "align_items": null,
       "align_self": null,
       "border": null,
       "bottom": null,
       "display": null,
       "flex": null,
       "flex_flow": null,
       "grid_area": null,
       "grid_auto_columns": null,
       "grid_auto_flow": null,
       "grid_auto_rows": null,
       "grid_column": null,
       "grid_gap": null,
       "grid_row": null,
       "grid_template_areas": null,
       "grid_template_columns": null,
       "grid_template_rows": null,
       "height": null,
       "justify_content": null,
       "justify_items": null,
       "left": null,
       "margin": null,
       "max_height": null,
       "max_width": null,
       "min_height": null,
       "min_width": null,
       "object_fit": null,
       "object_position": null,
       "order": null,
       "overflow": null,
       "overflow_x": null,
       "overflow_y": null,
       "padding": null,
       "right": null,
       "top": null,
       "visibility": null,
       "width": null
      }
     },
     "f6e3fd03af314761a3ccd9a8132f0d4a": {
      "model_module": "@jupyter-widgets/base",
      "model_module_version": "1.2.0",
      "model_name": "LayoutModel",
      "state": {
       "_model_module": "@jupyter-widgets/base",
       "_model_module_version": "1.2.0",
       "_model_name": "LayoutModel",
       "_view_count": null,
       "_view_module": "@jupyter-widgets/base",
       "_view_module_version": "1.2.0",
       "_view_name": "LayoutView",
       "align_content": null,
       "align_items": null,
       "align_self": null,
       "border": null,
       "bottom": null,
       "display": null,
       "flex": null,
       "flex_flow": null,
       "grid_area": null,
       "grid_auto_columns": null,
       "grid_auto_flow": null,
       "grid_auto_rows": null,
       "grid_column": null,
       "grid_gap": null,
       "grid_row": null,
       "grid_template_areas": null,
       "grid_template_columns": null,
       "grid_template_rows": null,
       "height": null,
       "justify_content": null,
       "justify_items": null,
       "left": null,
       "margin": null,
       "max_height": null,
       "max_width": null,
       "min_height": null,
       "min_width": null,
       "object_fit": null,
       "object_position": null,
       "order": null,
       "overflow": null,
       "overflow_x": null,
       "overflow_y": null,
       "padding": null,
       "right": null,
       "top": null,
       "visibility": null,
       "width": null
      }
     }
    },
    "version_major": 2,
    "version_minor": 0
   }
  }
 },
 "nbformat": 4,
 "nbformat_minor": 4
}
